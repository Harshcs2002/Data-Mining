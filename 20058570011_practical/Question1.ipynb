{
  "nbformat": 4,
  "nbformat_minor": 0,
  "metadata": {
    "colab": {
      "provenance": []
    },
    "kernelspec": {
      "name": "python3",
      "display_name": "Python 3"
    },
    "language_info": {
      "name": "python"
    }
  },
  "cells": [
    {
      "cell_type": "markdown",
      "source": [
        "##1) read the data from employee.txt\n",
        "##2) Create a ruleset that contains the rules to check following condtions :\n",
        " ###  a) price and number of copies should be positive\n",
        " ### b) if copies >=1 then the status should be positive\n",
        " ###  c) Department can only be Computer , Maths, Statistics \n",
        " ###  d) Price can be maximum Rs 1000\n",
        "## 3) Check whether the ruleset is violated by data in file 'employee.txt'\n",
        "## 4) Summarize the result in 3\n",
        "## 5) Visualize the result for violation of each rule suing pie chart"
      ],
      "metadata": {
        "id": "FSn-SrCjF66Y"
      }
    },
    {
      "cell_type": "code",
      "source": [
        "import pandas as pd\n",
        "import matplotlib.pyplot as plt"
      ],
      "metadata": {
        "id": "WMLsBe-MHqO9"
      },
      "execution_count": 2,
      "outputs": []
    },
    {
      "cell_type": "code",
      "source": [
        "# i) Read the data from 'employee.txt'\n",
        "data = pd.read_csv('employee.txt', delimiter=' ')\n",
        "data.head()"
      ],
      "metadata": {
        "colab": {
          "base_uri": "https://localhost:8080/",
          "height": 175
        },
        "id": "zoxgMOwtH2jf",
        "outputId": "b92ebd7b-e17c-45c6-d66c-6e32cec0cfa8"
      },
      "execution_count": 3,
      "outputs": [
        {
          "output_type": "execute_result",
          "data": {
            "text/plain": [
              "                  Name  Department   Price  Copies       Status\n",
              "0  Discrete-Structures    Computer     500       2     Availabe\n",
              "1          Fuzzy-Maths       Maths     -20       0     Availabe\n",
              "2   Hypothesis-Testing  Statistics     100       2  Unavailable\n",
              "3          Data-Mining       Comp.  100000      -3  Unavailable"
            ],
            "text/html": [
              "\n",
              "  <div id=\"df-2887feac-e62f-4b1b-bd1d-861937a0af4f\">\n",
              "    <div class=\"colab-df-container\">\n",
              "      <div>\n",
              "<style scoped>\n",
              "    .dataframe tbody tr th:only-of-type {\n",
              "        vertical-align: middle;\n",
              "    }\n",
              "\n",
              "    .dataframe tbody tr th {\n",
              "        vertical-align: top;\n",
              "    }\n",
              "\n",
              "    .dataframe thead th {\n",
              "        text-align: right;\n",
              "    }\n",
              "</style>\n",
              "<table border=\"1\" class=\"dataframe\">\n",
              "  <thead>\n",
              "    <tr style=\"text-align: right;\">\n",
              "      <th></th>\n",
              "      <th>Name</th>\n",
              "      <th>Department</th>\n",
              "      <th>Price</th>\n",
              "      <th>Copies</th>\n",
              "      <th>Status</th>\n",
              "    </tr>\n",
              "  </thead>\n",
              "  <tbody>\n",
              "    <tr>\n",
              "      <th>0</th>\n",
              "      <td>Discrete-Structures</td>\n",
              "      <td>Computer</td>\n",
              "      <td>500</td>\n",
              "      <td>2</td>\n",
              "      <td>Availabe</td>\n",
              "    </tr>\n",
              "    <tr>\n",
              "      <th>1</th>\n",
              "      <td>Fuzzy-Maths</td>\n",
              "      <td>Maths</td>\n",
              "      <td>-20</td>\n",
              "      <td>0</td>\n",
              "      <td>Availabe</td>\n",
              "    </tr>\n",
              "    <tr>\n",
              "      <th>2</th>\n",
              "      <td>Hypothesis-Testing</td>\n",
              "      <td>Statistics</td>\n",
              "      <td>100</td>\n",
              "      <td>2</td>\n",
              "      <td>Unavailable</td>\n",
              "    </tr>\n",
              "    <tr>\n",
              "      <th>3</th>\n",
              "      <td>Data-Mining</td>\n",
              "      <td>Comp.</td>\n",
              "      <td>100000</td>\n",
              "      <td>-3</td>\n",
              "      <td>Unavailable</td>\n",
              "    </tr>\n",
              "  </tbody>\n",
              "</table>\n",
              "</div>\n",
              "      <button class=\"colab-df-convert\" onclick=\"convertToInteractive('df-2887feac-e62f-4b1b-bd1d-861937a0af4f')\"\n",
              "              title=\"Convert this dataframe to an interactive table.\"\n",
              "              style=\"display:none;\">\n",
              "        \n",
              "  <svg xmlns=\"http://www.w3.org/2000/svg\" height=\"24px\"viewBox=\"0 0 24 24\"\n",
              "       width=\"24px\">\n",
              "    <path d=\"M0 0h24v24H0V0z\" fill=\"none\"/>\n",
              "    <path d=\"M18.56 5.44l.94 2.06.94-2.06 2.06-.94-2.06-.94-.94-2.06-.94 2.06-2.06.94zm-11 1L8.5 8.5l.94-2.06 2.06-.94-2.06-.94L8.5 2.5l-.94 2.06-2.06.94zm10 10l.94 2.06.94-2.06 2.06-.94-2.06-.94-.94-2.06-.94 2.06-2.06.94z\"/><path d=\"M17.41 7.96l-1.37-1.37c-.4-.4-.92-.59-1.43-.59-.52 0-1.04.2-1.43.59L10.3 9.45l-7.72 7.72c-.78.78-.78 2.05 0 2.83L4 21.41c.39.39.9.59 1.41.59.51 0 1.02-.2 1.41-.59l7.78-7.78 2.81-2.81c.8-.78.8-2.07 0-2.86zM5.41 20L4 18.59l7.72-7.72 1.47 1.35L5.41 20z\"/>\n",
              "  </svg>\n",
              "      </button>\n",
              "      \n",
              "  <style>\n",
              "    .colab-df-container {\n",
              "      display:flex;\n",
              "      flex-wrap:wrap;\n",
              "      gap: 12px;\n",
              "    }\n",
              "\n",
              "    .colab-df-convert {\n",
              "      background-color: #E8F0FE;\n",
              "      border: none;\n",
              "      border-radius: 50%;\n",
              "      cursor: pointer;\n",
              "      display: none;\n",
              "      fill: #1967D2;\n",
              "      height: 32px;\n",
              "      padding: 0 0 0 0;\n",
              "      width: 32px;\n",
              "    }\n",
              "\n",
              "    .colab-df-convert:hover {\n",
              "      background-color: #E2EBFA;\n",
              "      box-shadow: 0px 1px 2px rgba(60, 64, 67, 0.3), 0px 1px 3px 1px rgba(60, 64, 67, 0.15);\n",
              "      fill: #174EA6;\n",
              "    }\n",
              "\n",
              "    [theme=dark] .colab-df-convert {\n",
              "      background-color: #3B4455;\n",
              "      fill: #D2E3FC;\n",
              "    }\n",
              "\n",
              "    [theme=dark] .colab-df-convert:hover {\n",
              "      background-color: #434B5C;\n",
              "      box-shadow: 0px 1px 3px 1px rgba(0, 0, 0, 0.15);\n",
              "      filter: drop-shadow(0px 1px 2px rgba(0, 0, 0, 0.3));\n",
              "      fill: #FFFFFF;\n",
              "    }\n",
              "  </style>\n",
              "\n",
              "      <script>\n",
              "        const buttonEl =\n",
              "          document.querySelector('#df-2887feac-e62f-4b1b-bd1d-861937a0af4f button.colab-df-convert');\n",
              "        buttonEl.style.display =\n",
              "          google.colab.kernel.accessAllowed ? 'block' : 'none';\n",
              "\n",
              "        async function convertToInteractive(key) {\n",
              "          const element = document.querySelector('#df-2887feac-e62f-4b1b-bd1d-861937a0af4f');\n",
              "          const dataTable =\n",
              "            await google.colab.kernel.invokeFunction('convertToInteractive',\n",
              "                                                     [key], {});\n",
              "          if (!dataTable) return;\n",
              "\n",
              "          const docLinkHtml = 'Like what you see? Visit the ' +\n",
              "            '<a target=\"_blank\" href=https://colab.research.google.com/notebooks/data_table.ipynb>data table notebook</a>'\n",
              "            + ' to learn more about interactive tables.';\n",
              "          element.innerHTML = '';\n",
              "          dataTable['output_type'] = 'display_data';\n",
              "          await google.colab.output.renderOutput(dataTable, element);\n",
              "          const docLink = document.createElement('div');\n",
              "          docLink.innerHTML = docLinkHtml;\n",
              "          element.appendChild(docLink);\n",
              "        }\n",
              "      </script>\n",
              "    </div>\n",
              "  </div>\n",
              "  "
            ]
          },
          "metadata": {},
          "execution_count": 3
        }
      ]
    },
    {
      "cell_type": "code",
      "source": [
        "# ii) Create a ruleset\n",
        "ruleset = {\n",
        "    'Price and number of copies should be positive': (data['Price'] > 0) & (data['Copies'] > 0),\n",
        "    'If copies >= 1, then the status should be positive': (~data['Copies'].ge(1)) | (data['Status'] == 'Available'),\n",
        "    'Department can only be Computer, Maths, Statistics': data['Department'].isin(['Computer', 'Maths', 'Statistics']),\n",
        "    'Price can be maximum Rs 1000': data['Price'] <= 1000\n",
        "}"
      ],
      "metadata": {
        "id": "y0vZs2fnH_I3"
      },
      "execution_count": 4,
      "outputs": []
    },
    {
      "cell_type": "code",
      "source": [
        "# iii) Check if rules are violated\n",
        "violations = {rule: (~condition).sum() for rule, condition in ruleset.items()}"
      ],
      "metadata": {
        "id": "Bhcq7rNRICda"
      },
      "execution_count": 5,
      "outputs": []
    },
    {
      "cell_type": "code",
      "source": [
        "# iv) Summarize the result\n",
        "total_violations = sum(violations.values())\n",
        "result_summary = f'Total violations: {total_violations}\\n'\n",
        "for rule, violation_count in violations.items():\n",
        "    result_summary += f'{rule}: {violation_count}\\n'"
      ],
      "metadata": {
        "id": "u9HamT6-IF1I"
      },
      "execution_count": 6,
      "outputs": []
    },
    {
      "cell_type": "code",
      "source": [
        "print(result_summary)"
      ],
      "metadata": {
        "colab": {
          "base_uri": "https://localhost:8080/"
        },
        "id": "Z1ehYKfhIJHk",
        "outputId": "739a6609-afe1-4289-a52e-78799675a9ad"
      },
      "execution_count": 7,
      "outputs": [
        {
          "output_type": "stream",
          "name": "stdout",
          "text": [
            "Total violations: 6\n",
            "Price and number of copies should be positive: 2\n",
            "If copies >= 1, then the status should be positive: 2\n",
            "Department can only be Computer, Maths, Statistics: 1\n",
            "Price can be maximum Rs 1000: 1\n",
            "\n"
          ]
        }
      ]
    },
    {
      "cell_type": "code",
      "source": [
        "# v) visualise the result\n",
        "labels = violations.keys()\n",
        "sizes = violations.values()\n",
        "fig1, ax1 = plt.subplots()\n",
        "ax1.pie(sizes, labels=labels, autopct='%1.1f%%', startangle=90)\n",
        "ax1.axis('equal')  # Equal aspect ratio ensures that pie is drawn as a circle.\n",
        "plt.show()"
      ],
      "metadata": {
        "colab": {
          "base_uri": "https://localhost:8080/",
          "height": 413
        },
        "id": "S6zkPReUIOAq",
        "outputId": "a014fdaa-f0a4-4ca7-b137-c8ca2b135cb6"
      },
      "execution_count": 8,
      "outputs": [
        {
          "output_type": "display_data",
          "data": {
            "text/plain": [
              "<Figure size 640x480 with 1 Axes>"
            ],
            "image/png": "[encoded data removed]"
          },
          "metadata": {}
        }
      ]
    }
  ]
}