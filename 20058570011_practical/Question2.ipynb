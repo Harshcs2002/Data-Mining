{
  "nbformat": 4,
  "nbformat_minor": 0,
  "metadata": {
    "colab": {
      "provenance": []
    },
    "kernelspec": {
      "name": "python3",
      "display_name": "Python 3"
    },
    "language_info": {
      "name": "python"
    }
  },
  "cells": [
    {
      "cell_type": "markdown",
      "source": [
        "# 2 Perform K Means, DB Scan and Hierarchical Clustering on the perfume dataset and compare the performance of the clusters in three method"
      ],
      "metadata": {
        "id": "Tz0pOR5zOKR7"
      }
    },
    {
      "cell_type": "code",
      "execution_count": 1,
      "metadata": {
        "id": "dNTZ3SBcLfao"
      },
      "outputs": [],
      "source": [
        "import pandas as pd\n",
        "import numpy as np\n",
        "import matplotlib.pyplot as plt\n",
        "from sklearn.cluster import KMeans, DBSCAN, AgglomerativeClustering\n",
        "from sklearn.preprocessing import StandardScaler\n",
        "from sklearn.metrics import silhouette_score, calinski_harabasz_score, davies_bouldin_score"
      ]
    },
    {
      "cell_type": "code",
      "source": [
        "# Load the perfume dataset\n",
        "perfume = pd.read_excel('/content/set d q2.xlsx')\n",
        "perfume.head()"
      ],
      "metadata": {
        "colab": {
          "base_uri": "https://localhost:8080/",
          "height": 279
        },
        "id": "dYHx4Xq-LxtR",
        "outputId": "5f0c744f-fe7b-49a4-95e1-c53bd12dfc02"
      },
      "execution_count": 4,
      "outputs": [
        {
          "output_type": "execute_result",
          "data": {
            "text/plain": [
              "      ajayeb  64558  64556  64543  64543.1  64541  64543.2  64543.3  64541.1  \\\n",
              "0      ajmal  60502  60489  61485    60487  61485    61513    60515    60500   \n",
              "1     amreaj  57040  57040  57040    58041  58041    58041    58041    57042   \n",
              "2       aood  71083  72087  71091    71095  71099    72103    71099    72099   \n",
              "3  asgar_ali  68209  68209  68216    68216  68223    68223    68223    68223   \n",
              "4    bukhoor  71046  71046  71046    71046  71046    71046    71046    71046   \n",
              "\n",
              "   64541.2  ...  64541.8  64541.9  64541.10  64541.11  64541.12  64541.13  \\\n",
              "0    60500  ...    60472    60472     60461     61470     60487     60487   \n",
              "1    57042  ...    58041    58041     58041     58041     58041     58041   \n",
              "2    72099  ...    72095    71095     71095     72103     71103     71103   \n",
              "3    68230  ...    68230    67224     67217     67217     68223     68223   \n",
              "4    71046  ...    70049    70049     70049     70048     70049     70048   \n",
              "\n",
              "   64528.2  64528.3  64528.4  64528.5  \n",
              "0    61485    60487    60472    60472  \n",
              "1    58041    58041    58041    58041  \n",
              "2    71103    72103    72103    72098  \n",
              "3    68223    68223    68223    68230  \n",
              "4    70046    70046    70048    71048  \n",
              "\n",
              "[5 rows x 29 columns]"
            ],
            "text/html": [
              "\n",
              "  <div id=\"df-81da556d-37c3-40e3-b2ab-9e6fe918b7ca\">\n",
              "    <div class=\"colab-df-container\">\n",
              "      <div>\n",
              "<style scoped>\n",
              "    .dataframe tbody tr th:only-of-type {\n",
              "        vertical-align: middle;\n",
              "    }\n",
              "\n",
              "    .dataframe tbody tr th {\n",
              "        vertical-align: top;\n",
              "    }\n",
              "\n",
              "    .dataframe thead th {\n",
              "        text-align: right;\n",
              "    }\n",
              "</style>\n",
              "<table border=\"1\" class=\"dataframe\">\n",
              "  <thead>\n",
              "    <tr style=\"text-align: right;\">\n",
              "      <th></th>\n",
              "      <th>ajayeb</th>\n",
              "      <th>64558</th>\n",
              "      <th>64556</th>\n",
              "      <th>64543</th>\n",
              "      <th>64543.1</th>\n",
              "      <th>64541</th>\n",
              "      <th>64543.2</th>\n",
              "      <th>64543.3</th>\n",
              "      <th>64541.1</th>\n",
              "      <th>64541.2</th>\n",
              "      <th>...</th>\n",
              "      <th>64541.8</th>\n",
              "      <th>64541.9</th>\n",
              "      <th>64541.10</th>\n",
              "      <th>64541.11</th>\n",
              "      <th>64541.12</th>\n",
              "      <th>64541.13</th>\n",
              "      <th>64528.2</th>\n",
              "      <th>64528.3</th>\n",
              "      <th>64528.4</th>\n",
              "      <th>64528.5</th>\n",
              "    </tr>\n",
              "  </thead>\n",
              "  <tbody>\n",
              "    <tr>\n",
              "      <th>0</th>\n",
              "      <td>ajmal</td>\n",
              "      <td>60502</td>\n",
              "      <td>60489</td>\n",
              "      <td>61485</td>\n",
              "      <td>60487</td>\n",
              "      <td>61485</td>\n",
              "      <td>61513</td>\n",
              "      <td>60515</td>\n",
              "      <td>60500</td>\n",
              "      <td>60500</td>\n",
              "      <td>...</td>\n",
              "      <td>60472</td>\n",
              "      <td>60472</td>\n",
              "      <td>60461</td>\n",
              "      <td>61470</td>\n",
              "      <td>60487</td>\n",
              "      <td>60487</td>\n",
              "      <td>61485</td>\n",
              "      <td>60487</td>\n",
              "      <td>60472</td>\n",
              "      <td>60472</td>\n",
              "    </tr>\n",
              "    <tr>\n",
              "      <th>1</th>\n",
              "      <td>amreaj</td>\n",
              "      <td>57040</td>\n",
              "      <td>57040</td>\n",
              "      <td>57040</td>\n",
              "      <td>58041</td>\n",
              "      <td>58041</td>\n",
              "      <td>58041</td>\n",
              "      <td>58041</td>\n",
              "      <td>57042</td>\n",
              "      <td>57042</td>\n",
              "      <td>...</td>\n",
              "      <td>58041</td>\n",
              "      <td>58041</td>\n",
              "      <td>58041</td>\n",
              "      <td>58041</td>\n",
              "      <td>58041</td>\n",
              "      <td>58041</td>\n",
              "      <td>58041</td>\n",
              "      <td>58041</td>\n",
              "      <td>58041</td>\n",
              "      <td>58041</td>\n",
              "    </tr>\n",
              "    <tr>\n",
              "      <th>2</th>\n",
              "      <td>aood</td>\n",
              "      <td>71083</td>\n",
              "      <td>72087</td>\n",
              "      <td>71091</td>\n",
              "      <td>71095</td>\n",
              "      <td>71099</td>\n",
              "      <td>72103</td>\n",
              "      <td>71099</td>\n",
              "      <td>72099</td>\n",
              "      <td>72099</td>\n",
              "      <td>...</td>\n",
              "      <td>72095</td>\n",
              "      <td>71095</td>\n",
              "      <td>71095</td>\n",
              "      <td>72103</td>\n",
              "      <td>71103</td>\n",
              "      <td>71103</td>\n",
              "      <td>71103</td>\n",
              "      <td>72103</td>\n",
              "      <td>72103</td>\n",
              "      <td>72098</td>\n",
              "    </tr>\n",
              "    <tr>\n",
              "      <th>3</th>\n",
              "      <td>asgar_ali</td>\n",
              "      <td>68209</td>\n",
              "      <td>68209</td>\n",
              "      <td>68216</td>\n",
              "      <td>68216</td>\n",
              "      <td>68223</td>\n",
              "      <td>68223</td>\n",
              "      <td>68223</td>\n",
              "      <td>68223</td>\n",
              "      <td>68230</td>\n",
              "      <td>...</td>\n",
              "      <td>68230</td>\n",
              "      <td>67224</td>\n",
              "      <td>67217</td>\n",
              "      <td>67217</td>\n",
              "      <td>68223</td>\n",
              "      <td>68223</td>\n",
              "      <td>68223</td>\n",
              "      <td>68223</td>\n",
              "      <td>68223</td>\n",
              "      <td>68230</td>\n",
              "    </tr>\n",
              "    <tr>\n",
              "      <th>4</th>\n",
              "      <td>bukhoor</td>\n",
              "      <td>71046</td>\n",
              "      <td>71046</td>\n",
              "      <td>71046</td>\n",
              "      <td>71046</td>\n",
              "      <td>71046</td>\n",
              "      <td>71046</td>\n",
              "      <td>71046</td>\n",
              "      <td>71046</td>\n",
              "      <td>71046</td>\n",
              "      <td>...</td>\n",
              "      <td>70049</td>\n",
              "      <td>70049</td>\n",
              "      <td>70049</td>\n",
              "      <td>70048</td>\n",
              "      <td>70049</td>\n",
              "      <td>70048</td>\n",
              "      <td>70046</td>\n",
              "      <td>70046</td>\n",
              "      <td>70048</td>\n",
              "      <td>71048</td>\n",
              "    </tr>\n",
              "  </tbody>\n",
              "</table>\n",
              "<p>5 rows × 29 columns</p>\n",
              "</div>\n",
              "      <button class=\"colab-df-convert\" onclick=\"convertToInteractive('df-81da556d-37c3-40e3-b2ab-9e6fe918b7ca')\"\n",
              "              title=\"Convert this dataframe to an interactive table.\"\n",
              "              style=\"display:none;\">\n",
              "        \n",
              "  <svg xmlns=\"http://www.w3.org/2000/svg\" height=\"24px\"viewBox=\"0 0 24 24\"\n",
              "       width=\"24px\">\n",
              "    <path d=\"M0 0h24v24H0V0z\" fill=\"none\"/>\n",
              "    <path d=\"M18.56 5.44l.94 2.06.94-2.06 2.06-.94-2.06-.94-.94-2.06-.94 2.06-2.06.94zm-11 1L8.5 8.5l.94-2.06 2.06-.94-2.06-.94L8.5 2.5l-.94 2.06-2.06.94zm10 10l.94 2.06.94-2.06 2.06-.94-2.06-.94-.94-2.06-.94 2.06-2.06.94z\"/><path d=\"M17.41 7.96l-1.37-1.37c-.4-.4-.92-.59-1.43-.59-.52 0-1.04.2-1.43.59L10.3 9.45l-7.72 7.72c-.78.78-.78 2.05 0 2.83L4 21.41c.39.39.9.59 1.41.59.51 0 1.02-.2 1.41-.59l7.78-7.78 2.81-2.81c.8-.78.8-2.07 0-2.86zM5.41 20L4 18.59l7.72-7.72 1.47 1.35L5.41 20z\"/>\n",
              "  </svg>\n",
              "      </button>\n",
              "      \n",
              "  <style>\n",
              "    .colab-df-container {\n",
              "      display:flex;\n",
              "      flex-wrap:wrap;\n",
              "      gap: 12px;\n",
              "    }\n",
              "\n",
              "    .colab-df-convert {\n",
              "      background-color: #E8F0FE;\n",
              "      border: none;\n",
              "      border-radius: 50%;\n",
              "      cursor: pointer;\n",
              "      display: none;\n",
              "      fill: #1967D2;\n",
              "      height: 32px;\n",
              "      padding: 0 0 0 0;\n",
              "      width: 32px;\n",
              "    }\n",
              "\n",
              "    .colab-df-convert:hover {\n",
              "      background-color: #E2EBFA;\n",
              "      box-shadow: 0px 1px 2px rgba(60, 64, 67, 0.3), 0px 1px 3px 1px rgba(60, 64, 67, 0.15);\n",
              "      fill: #174EA6;\n",
              "    }\n",
              "\n",
              "    [theme=dark] .colab-df-convert {\n",
              "      background-color: #3B4455;\n",
              "      fill: #D2E3FC;\n",
              "    }\n",
              "\n",
              "    [theme=dark] .colab-df-convert:hover {\n",
              "      background-color: #434B5C;\n",
              "      box-shadow: 0px 1px 3px 1px rgba(0, 0, 0, 0.15);\n",
              "      filter: drop-shadow(0px 1px 2px rgba(0, 0, 0, 0.3));\n",
              "      fill: #FFFFFF;\n",
              "    }\n",
              "  </style>\n",
              "\n",
              "      <script>\n",
              "        const buttonEl =\n",
              "          document.querySelector('#df-81da556d-37c3-40e3-b2ab-9e6fe918b7ca button.colab-df-convert');\n",
              "        buttonEl.style.display =\n",
              "          google.colab.kernel.accessAllowed ? 'block' : 'none';\n",
              "\n",
              "        async function convertToInteractive(key) {\n",
              "          const element = document.querySelector('#df-81da556d-37c3-40e3-b2ab-9e6fe918b7ca');\n",
              "          const dataTable =\n",
              "            await google.colab.kernel.invokeFunction('convertToInteractive',\n",
              "                                                     [key], {});\n",
              "          if (!dataTable) return;\n",
              "\n",
              "          const docLinkHtml = 'Like what you see? Visit the ' +\n",
              "            '<a target=\"_blank\" href=https://colab.research.google.com/notebooks/data_table.ipynb>data table notebook</a>'\n",
              "            + ' to learn more about interactive tables.';\n",
              "          element.innerHTML = '';\n",
              "          dataTable['output_type'] = 'display_data';\n",
              "          await google.colab.output.renderOutput(dataTable, element);\n",
              "          const docLink = document.createElement('div');\n",
              "          docLink.innerHTML = docLinkHtml;\n",
              "          element.appendChild(docLink);\n",
              "        }\n",
              "      </script>\n",
              "    </div>\n",
              "  </div>\n",
              "  "
            ]
          },
          "metadata": {},
          "execution_count": 4
        }
      ]
    },
    {
      "cell_type": "code",
      "source": [
        "# Select the features for clustering\n",
        "X = perfume.iloc[:, 1:].values\n",
        "\n",
        "# Scale the data\n",
        "scaler = StandardScaler()\n",
        "X = scaler.fit_transform(X)"
      ],
      "metadata": {
        "id": "SjiYy6r2MFv7"
      },
      "execution_count": 5,
      "outputs": []
    },
    {
      "cell_type": "code",
      "source": [
        "# Find the optimal number of clusters using the elbow method\n",
        "wss = []\n",
        "for i in range(1, 11):\n",
        "    kmeans = KMeans(n_clusters=i, init='k-means++', max_iter=300, n_init=10, random_state=0)\n",
        "    kmeans.fit(X)\n",
        "    wss.append(kmeans.inertia_)\n",
        "plt.plot(range(1, 11), wss)\n",
        "plt.title('Elbow Method')\n",
        "plt.xlabel('Number of clusters')\n",
        "plt.ylabel('WSS')\n",
        "plt.show()"
      ],
      "metadata": {
        "colab": {
          "base_uri": "https://localhost:8080/",
          "height": 472
        },
        "id": "PdAvEvVfMfUh",
        "outputId": "081d6d94-e57f-47d0-e2bf-5d6f4fc7eeb8"
      },
      "execution_count": 6,
      "outputs": [
        {
          "output_type": "display_data",
          "data": {
            "text/plain": [
              "<Figure size 640x480 with 1 Axes>"
            ],
            "image/png": "[encoded data removed]"
          },
          "metadata": {}
        }
      ]
    },
    {
      "cell_type": "markdown",
      "source": [
        "### Optimal No of cluster should be 4"
      ],
      "metadata": {
        "id": "z2Z5LkgvMkRJ"
      }
    },
    {
      "cell_type": "code",
      "source": [
        "# i) K Means clustering\n",
        "kmeans = KMeans(n_clusters=4, random_state=42)\n",
        "kmeans_labels = kmeans.fit_predict(X)\n",
        "\n",
        "# ii) DBSCAN clustering\n",
        "dbscan = DBSCAN(eps=0.9, min_samples=4)\n",
        "dbscan_labels = dbscan.fit_predict(X)\n",
        "\n",
        "# iii) Hierarchical clustering\n",
        "hierarchical = AgglomerativeClustering(n_clusters=4)\n",
        "hierarchical_labels = hierarchical.fit_predict(X)"
      ],
      "metadata": {
        "colab": {
          "base_uri": "https://localhost:8080/"
        },
        "id": "pXhcrYOpMpYJ",
        "outputId": "fe285a8e-aaa9-4d16-f519-538fdb632bc8"
      },
      "execution_count": 8,
      "outputs": [
        {
          "output_type": "stream",
          "name": "stderr",
          "text": [
            "/usr/local/lib/python3.10/dist-packages/sklearn/cluster/_kmeans.py:870: FutureWarning: The default value of `n_init` will change from 10 to 'auto' in 1.4. Set the value of `n_init` explicitly to suppress the warning\n",
            "  warnings.warn(\n"
          ]
        }
      ]
    },
    {
      "cell_type": "code",
      "source": [
        "# Compute the silhouette score, and Davies-Bouldin score for each model\n",
        "kmeans_silhouette = silhouette_score(X, kmeans_labels)\n",
        "kmeans_davies_bouldin = davies_bouldin_score(X, kmeans_labels)\n",
        "\n",
        "dbscan_silhouette = silhouette_score(X, dbscan_labels)\n",
        "dbscan_davies_bouldin = davies_bouldin_score(X, dbscan_labels)\n",
        "\n",
        "hierarchical_silhouette = silhouette_score(X, hierarchical_labels)\n",
        "hierarchical_davies_bouldin = davies_bouldin_score(X, hierarchical_labels)\n"
      ],
      "metadata": {
        "id": "PNRj26uqM4pU"
      },
      "execution_count": 10,
      "outputs": []
    },
    {
      "cell_type": "code",
      "source": [
        "# Compare the performance of the models\n",
        "print(\"Performance comparison:\")\n",
        "print(\"\\t\\tSilhouette Score\\tDavies-Bouldin Score\")\n",
        "print(\"K Means:\\t{:.4f}\\t\\t\\t{:.4f}\".format(kmeans_silhouette, kmeans_davies_bouldin))\n",
        "print(\"DBSCAN:\\t\\t{:.4f}\\t\\t\\t{:.4f}\".format(dbscan_silhouette, dbscan_davies_bouldin))\n",
        "print(\"Hierarchical:\\t{:.4f}\\t\\t\\t{:.4f}\".format(hierarchical_silhouette, hierarchical_davies_bouldin))\n"
      ],
      "metadata": {
        "colab": {
          "base_uri": "https://localhost:8080/"
        },
        "id": "JLJACWxaNcIN",
        "outputId": "0f21fb9d-8049-4d25-97da-5b1199677c3c"
      },
      "execution_count": 12,
      "outputs": [
        {
          "output_type": "stream",
          "name": "stdout",
          "text": [
            "Performance comparison:\n",
            "\t\tSilhouette Score\tDavies-Bouldin Score\n",
            "K Means:\t0.5152\t\t\t0.4073\n",
            "DBSCAN:\t\t-0.1093\t\t\t5.0726\n",
            "Hierarchical:\t0.5331\t\t\t0.3814\n"
          ]
        }
      ]
    },
    {
      "cell_type": "code",
      "source": [
        "# Plot the clusters\n",
        "plt.figure(figsize=(18, 6))\n",
        "\n",
        "# K Means\n",
        "plt.subplot(1, 3, 1)\n",
        "plt.scatter(X[:, 0], X[:, 1], c=kmeans_labels, cmap='viridis')\n",
        "plt.title(\"K Means\")\n",
        "\n",
        "# DBSCAN\n",
        "plt.subplot(1, 3, 2)\n",
        "plt.scatter(X[:, 0], X[:, 1], c=dbscan_labels, cmap='viridis')\n",
        "plt.title(\"DBSCAN\")\n",
        "\n",
        "# Hierarchical\n",
        "plt.subplot(1, 3, 3)\n",
        "plt.scatter(X[:, 0], X[:, 1], c=hierarchical_labels, cmap='viridis')\n",
        "plt.title(\"Hierarchical\")\n",
        "\n",
        "plt.suptitle(\"Clustering Results\", fontsize=16, y=1.05)\n",
        "plt.tight_layout()\n",
        "plt.show()"
      ],
      "metadata": {
        "colab": {
          "base_uri": "https://localhost:8080/",
          "height": 519
        },
        "id": "pVtJRnt3NznB",
        "outputId": "6a1c4806-18cd-43c8-c0ab-d5c017bd07b9"
      },
      "execution_count": 13,
      "outputs": [
        {
          "output_type": "display_data",
          "data": {
            "text/plain": [
              "<Figure size 1800x600 with 3 Axes>"
            ],
            "image/png": "[encoded data removed]"
          },
          "metadata": {}
        }
      ]
    }
  ]
}