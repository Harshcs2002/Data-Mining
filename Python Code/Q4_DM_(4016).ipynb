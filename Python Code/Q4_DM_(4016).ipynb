{
  "nbformat": 4,
  "nbformat_minor": 0,
  "metadata": {
    "colab": {
      "provenance": []
    },
    "kernelspec": {
      "name": "python3",
      "display_name": "Python 3"
    },
    "language_info": {
      "name": "python"
    }
  },
  "cells": [
    {
      "cell_type": "markdown",
      "source": [
        "# Q4. Run Apriori algorithm to find frequent itemsets and association rules\n",
        "- ## 1.1 Use minimum support as 50% and minimum confidence as 75%\n",
        "- ## 1.2 Use minimum support as 60% and minimum confidence as 60 %"
      ],
      "metadata": {
        "id": "U0xOIyykAPWy"
      }
    },
    {
      "cell_type": "code",
      "source": [
        "!pip install efficient-apriori"
      ],
      "metadata": {
        "colab": {
          "base_uri": "https://localhost:8080/"
        },
        "id": "cZzxYlzG3blL",
        "outputId": "f01b7b02-d162-4513-abe1-423fd48bcb22"
      },
      "execution_count": 7,
      "outputs": [
        {
          "output_type": "stream",
          "name": "stdout",
          "text": [
            "Looking in indexes: https://pypi.org/simple, https://us-python.pkg.dev/colab-wheels/public/simple/\n",
            "Collecting efficient-apriori\n",
            "  Downloading efficient_apriori-2.0.3-py3-none-any.whl (14 kB)\n",
            "Installing collected packages: efficient-apriori\n",
            "Successfully installed efficient-apriori-2.0.3\n"
          ]
        }
      ]
    },
    {
      "cell_type": "code",
      "source": [
        "import pandas as pd\n",
        "import numpy as np\n",
        "\n",
        "market_basket = pd.read_csv('/content/Market_Basket_Optimisation.csv')\n",
        "market_basket"
      ],
      "metadata": {
        "colab": {
          "base_uri": "https://localhost:8080/",
          "height": 589
        },
        "id": "_SojggYhKYAQ",
        "outputId": "078d5b28-d00b-4966-eb12-ba2fdaa2326c"
      },
      "execution_count": 31,
      "outputs": [
        {
          "output_type": "execute_result",
          "data": {
            "text/plain": [
              "              shrimp            almonds      avocado    vegetables mix  \\\n",
              "0            burgers          meatballs         eggs               NaN   \n",
              "1            chutney                NaN          NaN               NaN   \n",
              "2             turkey            avocado          NaN               NaN   \n",
              "3      mineral water               milk   energy bar  whole wheat rice   \n",
              "4     low fat yogurt                NaN          NaN               NaN   \n",
              "...              ...                ...          ...               ...   \n",
              "7495          butter         light mayo  fresh bread               NaN   \n",
              "7496         burgers  frozen vegetables         eggs      french fries   \n",
              "7497         chicken                NaN          NaN               NaN   \n",
              "7498        escalope          green tea          NaN               NaN   \n",
              "7499            eggs    frozen smoothie  yogurt cake    low fat yogurt   \n",
              "\n",
              "     green grapes whole weat flour yams cottage cheese energy drink  \\\n",
              "0             NaN              NaN  NaN            NaN          NaN   \n",
              "1             NaN              NaN  NaN            NaN          NaN   \n",
              "2             NaN              NaN  NaN            NaN          NaN   \n",
              "3       green tea              NaN  NaN            NaN          NaN   \n",
              "4             NaN              NaN  NaN            NaN          NaN   \n",
              "...           ...              ...  ...            ...          ...   \n",
              "7495          NaN              NaN  NaN            NaN          NaN   \n",
              "7496    magazines        green tea  NaN            NaN          NaN   \n",
              "7497          NaN              NaN  NaN            NaN          NaN   \n",
              "7498          NaN              NaN  NaN            NaN          NaN   \n",
              "7499          NaN              NaN  NaN            NaN          NaN   \n",
              "\n",
              "     tomato juice low fat yogurt green tea honey salad mineral water salmon  \\\n",
              "0             NaN            NaN       NaN   NaN   NaN           NaN    NaN   \n",
              "1             NaN            NaN       NaN   NaN   NaN           NaN    NaN   \n",
              "2             NaN            NaN       NaN   NaN   NaN           NaN    NaN   \n",
              "3             NaN            NaN       NaN   NaN   NaN           NaN    NaN   \n",
              "4             NaN            NaN       NaN   NaN   NaN           NaN    NaN   \n",
              "...           ...            ...       ...   ...   ...           ...    ...   \n",
              "7495          NaN            NaN       NaN   NaN   NaN           NaN    NaN   \n",
              "7496          NaN            NaN       NaN   NaN   NaN           NaN    NaN   \n",
              "7497          NaN            NaN       NaN   NaN   NaN           NaN    NaN   \n",
              "7498          NaN            NaN       NaN   NaN   NaN           NaN    NaN   \n",
              "7499          NaN            NaN       NaN   NaN   NaN           NaN    NaN   \n",
              "\n",
              "     antioxydant juice frozen smoothie spinach  olive oil  \n",
              "0                  NaN             NaN     NaN        NaN  \n",
              "1                  NaN             NaN     NaN        NaN  \n",
              "2                  NaN             NaN     NaN        NaN  \n",
              "3                  NaN             NaN     NaN        NaN  \n",
              "4                  NaN             NaN     NaN        NaN  \n",
              "...                ...             ...     ...        ...  \n",
              "7495               NaN             NaN     NaN        NaN  \n",
              "7496               NaN             NaN     NaN        NaN  \n",
              "7497               NaN             NaN     NaN        NaN  \n",
              "7498               NaN             NaN     NaN        NaN  \n",
              "7499               NaN             NaN     NaN        NaN  \n",
              "\n",
              "[7500 rows x 20 columns]"
            ],
            "text/html": [
              "\n",
              "  <div id=\"df-6b8042fb-3cd6-46a2-a852-9d6f67b0d961\">\n",
              "    <div class=\"colab-df-container\">\n",
              "      <div>\n",
              "<style scoped>\n",
              "    .dataframe tbody tr th:only-of-type {\n",
              "        vertical-align: middle;\n",
              "    }\n",
              "\n",
              "    .dataframe tbody tr th {\n",
              "        vertical-align: top;\n",
              "    }\n",
              "\n",
              "    .dataframe thead th {\n",
              "        text-align: right;\n",
              "    }\n",
              "</style>\n",
              "<table border=\"1\" class=\"dataframe\">\n",
              "  <thead>\n",
              "    <tr style=\"text-align: right;\">\n",
              "      <th></th>\n",
              "      <th>shrimp</th>\n",
              "      <th>almonds</th>\n",
              "      <th>avocado</th>\n",
              "      <th>vegetables mix</th>\n",
              "      <th>green grapes</th>\n",
              "      <th>whole weat flour</th>\n",
              "      <th>yams</th>\n",
              "      <th>cottage cheese</th>\n",
              "      <th>energy drink</th>\n",
              "      <th>tomato juice</th>\n",
              "      <th>low fat yogurt</th>\n",
              "      <th>green tea</th>\n",
              "      <th>honey</th>\n",
              "      <th>salad</th>\n",
              "      <th>mineral water</th>\n",
              "      <th>salmon</th>\n",
              "      <th>antioxydant juice</th>\n",
              "      <th>frozen smoothie</th>\n",
              "      <th>spinach</th>\n",
              "      <th>olive oil</th>\n",
              "    </tr>\n",
              "  </thead>\n",
              "  <tbody>\n",
              "    <tr>\n",
              "      <th>0</th>\n",
              "      <td>burgers</td>\n",
              "      <td>meatballs</td>\n",
              "      <td>eggs</td>\n",
              "      <td>NaN</td>\n",
              "      <td>NaN</td>\n",
              "      <td>NaN</td>\n",
              "      <td>NaN</td>\n",
              "      <td>NaN</td>\n",
              "      <td>NaN</td>\n",
              "      <td>NaN</td>\n",
              "      <td>NaN</td>\n",
              "      <td>NaN</td>\n",
              "      <td>NaN</td>\n",
              "      <td>NaN</td>\n",
              "      <td>NaN</td>\n",
              "      <td>NaN</td>\n",
              "      <td>NaN</td>\n",
              "      <td>NaN</td>\n",
              "      <td>NaN</td>\n",
              "      <td>NaN</td>\n",
              "    </tr>\n",
              "    <tr>\n",
              "      <th>1</th>\n",
              "      <td>chutney</td>\n",
              "      <td>NaN</td>\n",
              "      <td>NaN</td>\n",
              "      <td>NaN</td>\n",
              "      <td>NaN</td>\n",
              "      <td>NaN</td>\n",
              "      <td>NaN</td>\n",
              "      <td>NaN</td>\n",
              "      <td>NaN</td>\n",
              "      <td>NaN</td>\n",
              "      <td>NaN</td>\n",
              "      <td>NaN</td>\n",
              "      <td>NaN</td>\n",
              "      <td>NaN</td>\n",
              "      <td>NaN</td>\n",
              "      <td>NaN</td>\n",
              "      <td>NaN</td>\n",
              "      <td>NaN</td>\n",
              "      <td>NaN</td>\n",
              "      <td>NaN</td>\n",
              "    </tr>\n",
              "    <tr>\n",
              "      <th>2</th>\n",
              "      <td>turkey</td>\n",
              "      <td>avocado</td>\n",
              "      <td>NaN</td>\n",
              "      <td>NaN</td>\n",
              "      <td>NaN</td>\n",
              "      <td>NaN</td>\n",
              "      <td>NaN</td>\n",
              "      <td>NaN</td>\n",
              "      <td>NaN</td>\n",
              "      <td>NaN</td>\n",
              "      <td>NaN</td>\n",
              "      <td>NaN</td>\n",
              "      <td>NaN</td>\n",
              "      <td>NaN</td>\n",
              "      <td>NaN</td>\n",
              "      <td>NaN</td>\n",
              "      <td>NaN</td>\n",
              "      <td>NaN</td>\n",
              "      <td>NaN</td>\n",
              "      <td>NaN</td>\n",
              "    </tr>\n",
              "    <tr>\n",
              "      <th>3</th>\n",
              "      <td>mineral water</td>\n",
              "      <td>milk</td>\n",
              "      <td>energy bar</td>\n",
              "      <td>whole wheat rice</td>\n",
              "      <td>green tea</td>\n",
              "      <td>NaN</td>\n",
              "      <td>NaN</td>\n",
              "      <td>NaN</td>\n",
              "      <td>NaN</td>\n",
              "      <td>NaN</td>\n",
              "      <td>NaN</td>\n",
              "      <td>NaN</td>\n",
              "      <td>NaN</td>\n",
              "      <td>NaN</td>\n",
              "      <td>NaN</td>\n",
              "      <td>NaN</td>\n",
              "      <td>NaN</td>\n",
              "      <td>NaN</td>\n",
              "      <td>NaN</td>\n",
              "      <td>NaN</td>\n",
              "    </tr>\n",
              "    <tr>\n",
              "      <th>4</th>\n",
              "      <td>low fat yogurt</td>\n",
              "      <td>NaN</td>\n",
              "      <td>NaN</td>\n",
              "      <td>NaN</td>\n",
              "      <td>NaN</td>\n",
              "      <td>NaN</td>\n",
              "      <td>NaN</td>\n",
              "      <td>NaN</td>\n",
              "      <td>NaN</td>\n",
              "      <td>NaN</td>\n",
              "      <td>NaN</td>\n",
              "      <td>NaN</td>\n",
              "      <td>NaN</td>\n",
              "      <td>NaN</td>\n",
              "      <td>NaN</td>\n",
              "      <td>NaN</td>\n",
              "      <td>NaN</td>\n",
              "      <td>NaN</td>\n",
              "      <td>NaN</td>\n",
              "      <td>NaN</td>\n",
              "    </tr>\n",
              "    <tr>\n",
              "      <th>...</th>\n",
              "      <td>...</td>\n",
              "      <td>...</td>\n",
              "      <td>...</td>\n",
              "      <td>...</td>\n",
              "      <td>...</td>\n",
              "      <td>...</td>\n",
              "      <td>...</td>\n",
              "      <td>...</td>\n",
              "      <td>...</td>\n",
              "      <td>...</td>\n",
              "      <td>...</td>\n",
              "      <td>...</td>\n",
              "      <td>...</td>\n",
              "      <td>...</td>\n",
              "      <td>...</td>\n",
              "      <td>...</td>\n",
              "      <td>...</td>\n",
              "      <td>...</td>\n",
              "      <td>...</td>\n",
              "      <td>...</td>\n",
              "    </tr>\n",
              "    <tr>\n",
              "      <th>7495</th>\n",
              "      <td>butter</td>\n",
              "      <td>light mayo</td>\n",
              "      <td>fresh bread</td>\n",
              "      <td>NaN</td>\n",
              "      <td>NaN</td>\n",
              "      <td>NaN</td>\n",
              "      <td>NaN</td>\n",
              "      <td>NaN</td>\n",
              "      <td>NaN</td>\n",
              "      <td>NaN</td>\n",
              "      <td>NaN</td>\n",
              "      <td>NaN</td>\n",
              "      <td>NaN</td>\n",
              "      <td>NaN</td>\n",
              "      <td>NaN</td>\n",
              "      <td>NaN</td>\n",
              "      <td>NaN</td>\n",
              "      <td>NaN</td>\n",
              "      <td>NaN</td>\n",
              "      <td>NaN</td>\n",
              "    </tr>\n",
              "    <tr>\n",
              "      <th>7496</th>\n",
              "      <td>burgers</td>\n",
              "      <td>frozen vegetables</td>\n",
              "      <td>eggs</td>\n",
              "      <td>french fries</td>\n",
              "      <td>magazines</td>\n",
              "      <td>green tea</td>\n",
              "      <td>NaN</td>\n",
              "      <td>NaN</td>\n",
              "      <td>NaN</td>\n",
              "      <td>NaN</td>\n",
              "      <td>NaN</td>\n",
              "      <td>NaN</td>\n",
              "      <td>NaN</td>\n",
              "      <td>NaN</td>\n",
              "      <td>NaN</td>\n",
              "      <td>NaN</td>\n",
              "      <td>NaN</td>\n",
              "      <td>NaN</td>\n",
              "      <td>NaN</td>\n",
              "      <td>NaN</td>\n",
              "    </tr>\n",
              "    <tr>\n",
              "      <th>7497</th>\n",
              "      <td>chicken</td>\n",
              "      <td>NaN</td>\n",
              "      <td>NaN</td>\n",
              "      <td>NaN</td>\n",
              "      <td>NaN</td>\n",
              "      <td>NaN</td>\n",
              "      <td>NaN</td>\n",
              "      <td>NaN</td>\n",
              "      <td>NaN</td>\n",
              "      <td>NaN</td>\n",
              "      <td>NaN</td>\n",
              "      <td>NaN</td>\n",
              "      <td>NaN</td>\n",
              "      <td>NaN</td>\n",
              "      <td>NaN</td>\n",
              "      <td>NaN</td>\n",
              "      <td>NaN</td>\n",
              "      <td>NaN</td>\n",
              "      <td>NaN</td>\n",
              "      <td>NaN</td>\n",
              "    </tr>\n",
              "    <tr>\n",
              "      <th>7498</th>\n",
              "      <td>escalope</td>\n",
              "      <td>green tea</td>\n",
              "      <td>NaN</td>\n",
              "      <td>NaN</td>\n",
              "      <td>NaN</td>\n",
              "      <td>NaN</td>\n",
              "      <td>NaN</td>\n",
              "      <td>NaN</td>\n",
              "      <td>NaN</td>\n",
              "      <td>NaN</td>\n",
              "      <td>NaN</td>\n",
              "      <td>NaN</td>\n",
              "      <td>NaN</td>\n",
              "      <td>NaN</td>\n",
              "      <td>NaN</td>\n",
              "      <td>NaN</td>\n",
              "      <td>NaN</td>\n",
              "      <td>NaN</td>\n",
              "      <td>NaN</td>\n",
              "      <td>NaN</td>\n",
              "    </tr>\n",
              "    <tr>\n",
              "      <th>7499</th>\n",
              "      <td>eggs</td>\n",
              "      <td>frozen smoothie</td>\n",
              "      <td>yogurt cake</td>\n",
              "      <td>low fat yogurt</td>\n",
              "      <td>NaN</td>\n",
              "      <td>NaN</td>\n",
              "      <td>NaN</td>\n",
              "      <td>NaN</td>\n",
              "      <td>NaN</td>\n",
              "      <td>NaN</td>\n",
              "      <td>NaN</td>\n",
              "      <td>NaN</td>\n",
              "      <td>NaN</td>\n",
              "      <td>NaN</td>\n",
              "      <td>NaN</td>\n",
              "      <td>NaN</td>\n",
              "      <td>NaN</td>\n",
              "      <td>NaN</td>\n",
              "      <td>NaN</td>\n",
              "      <td>NaN</td>\n",
              "    </tr>\n",
              "  </tbody>\n",
              "</table>\n",
              "<p>7500 rows × 20 columns</p>\n",
              "</div>\n",
              "      <button class=\"colab-df-convert\" onclick=\"convertToInteractive('df-6b8042fb-3cd6-46a2-a852-9d6f67b0d961')\"\n",
              "              title=\"Convert this dataframe to an interactive table.\"\n",
              "              style=\"display:none;\">\n",
              "        \n",
              "  <svg xmlns=\"http://www.w3.org/2000/svg\" height=\"24px\"viewBox=\"0 0 24 24\"\n",
              "       width=\"24px\">\n",
              "    <path d=\"M0 0h24v24H0V0z\" fill=\"none\"/>\n",
              "    <path d=\"M18.56 5.44l.94 2.06.94-2.06 2.06-.94-2.06-.94-.94-2.06-.94 2.06-2.06.94zm-11 1L8.5 8.5l.94-2.06 2.06-.94-2.06-.94L8.5 2.5l-.94 2.06-2.06.94zm10 10l.94 2.06.94-2.06 2.06-.94-2.06-.94-.94-2.06-.94 2.06-2.06.94z\"/><path d=\"M17.41 7.96l-1.37-1.37c-.4-.4-.92-.59-1.43-.59-.52 0-1.04.2-1.43.59L10.3 9.45l-7.72 7.72c-.78.78-.78 2.05 0 2.83L4 21.41c.39.39.9.59 1.41.59.51 0 1.02-.2 1.41-.59l7.78-7.78 2.81-2.81c.8-.78.8-2.07 0-2.86zM5.41 20L4 18.59l7.72-7.72 1.47 1.35L5.41 20z\"/>\n",
              "  </svg>\n",
              "      </button>\n",
              "      \n",
              "  <style>\n",
              "    .colab-df-container {\n",
              "      display:flex;\n",
              "      flex-wrap:wrap;\n",
              "      gap: 12px;\n",
              "    }\n",
              "\n",
              "    .colab-df-convert {\n",
              "      background-color: #E8F0FE;\n",
              "      border: none;\n",
              "      border-radius: 50%;\n",
              "      cursor: pointer;\n",
              "      display: none;\n",
              "      fill: #1967D2;\n",
              "      height: 32px;\n",
              "      padding: 0 0 0 0;\n",
              "      width: 32px;\n",
              "    }\n",
              "\n",
              "    .colab-df-convert:hover {\n",
              "      background-color: #E2EBFA;\n",
              "      box-shadow: 0px 1px 2px rgba(60, 64, 67, 0.3), 0px 1px 3px 1px rgba(60, 64, 67, 0.15);\n",
              "      fill: #174EA6;\n",
              "    }\n",
              "\n",
              "    [theme=dark] .colab-df-convert {\n",
              "      background-color: #3B4455;\n",
              "      fill: #D2E3FC;\n",
              "    }\n",
              "\n",
              "    [theme=dark] .colab-df-convert:hover {\n",
              "      background-color: #434B5C;\n",
              "      box-shadow: 0px 1px 3px 1px rgba(0, 0, 0, 0.15);\n",
              "      filter: drop-shadow(0px 1px 2px rgba(0, 0, 0, 0.3));\n",
              "      fill: #FFFFFF;\n",
              "    }\n",
              "  </style>\n",
              "\n",
              "      <script>\n",
              "        const buttonEl =\n",
              "          document.querySelector('#df-6b8042fb-3cd6-46a2-a852-9d6f67b0d961 button.colab-df-convert');\n",
              "        buttonEl.style.display =\n",
              "          google.colab.kernel.accessAllowed ? 'block' : 'none';\n",
              "\n",
              "        async function convertToInteractive(key) {\n",
              "          const element = document.querySelector('#df-6b8042fb-3cd6-46a2-a852-9d6f67b0d961');\n",
              "          const dataTable =\n",
              "            await google.colab.kernel.invokeFunction('convertToInteractive',\n",
              "                                                     [key], {});\n",
              "          if (!dataTable) return;\n",
              "\n",
              "          const docLinkHtml = 'Like what you see? Visit the ' +\n",
              "            '<a target=\"_blank\" href=https://colab.research.google.com/notebooks/data_table.ipynb>data table notebook</a>'\n",
              "            + ' to learn more about interactive tables.';\n",
              "          element.innerHTML = '';\n",
              "          dataTable['output_type'] = 'display_data';\n",
              "          await google.colab.output.renderOutput(dataTable, element);\n",
              "          const docLink = document.createElement('div');\n",
              "          docLink.innerHTML = docLinkHtml;\n",
              "          element.appendChild(docLink);\n",
              "        }\n",
              "      </script>\n",
              "    </div>\n",
              "  </div>\n",
              "  "
            ]
          },
          "metadata": {},
          "execution_count": 31
        }
      ]
    },
    {
      "cell_type": "code",
      "source": [
        "clean_data =[]\n",
        "\n",
        "for i in range(len(market_basket)):\n",
        "    clean_data.append([x for x in list(map(str,market_basket.iloc[i].tolist())) if x != 'nan'])\n",
        "length = len(clean_data)\n",
        "print(length)    "
      ],
      "metadata": {
        "colab": {
          "base_uri": "https://localhost:8080/"
        },
        "id": "JDPAKpEKLCL8",
        "outputId": "db91f84b-8fb2-46d6-fb39-f6d77c655047"
      },
      "execution_count": 2,
      "outputs": [
        {
          "output_type": "stream",
          "name": "stdout",
          "text": [
            "7500\n"
          ]
        }
      ]
    },
    {
      "cell_type": "markdown",
      "source": [
        "## Use minimum support as 50% and minimum confidence as 75%"
      ],
      "metadata": {
        "id": "YncqlguH5Wfi"
      }
    },
    {
      "cell_type": "code",
      "source": [
        "from efficient_apriori import apriori\n",
        "itemsets, rules = apriori(clean_data, min_support=0.05, min_confidence=0.075, verbosity=1)"
      ],
      "metadata": {
        "id": "vUP7-tjuLueF",
        "colab": {
          "base_uri": "https://localhost:8080/"
        },
        "outputId": "d60f0201-ec75-4595-c6df-926f2bf4a07a"
      },
      "execution_count": 16,
      "outputs": [
        {
          "output_type": "stream",
          "name": "stdout",
          "text": [
            "Generating itemsets.\n",
            " Counting itemsets of length 1.\n",
            "  Found 120 candidate itemsets of length 1.\n",
            "  Found 25 large itemsets of length 1.\n",
            " Counting itemsets of length 2.\n",
            "  Found 300 candidate itemsets of length 2.\n",
            "  Found 3 large itemsets of length 2.\n",
            " Counting itemsets of length 3.\n",
            "  Found 0 candidate itemsets of length 3.\n",
            "Itemset generation terminated.\n",
            "\n",
            "Generating rules from itemsets.\n",
            " Generating rules of size 2.\n",
            "Rule generation terminated.\n",
            "\n"
          ]
        }
      ]
    },
    {
      "cell_type": "code",
      "source": [
        "itemsets"
      ],
      "metadata": {
        "colab": {
          "base_uri": "https://localhost:8080/"
        },
        "id": "X6Tt-gse4VCS",
        "outputId": "aedbce73-c7d0-493b-c804-f5ee6cf1b9a6"
      },
      "execution_count": 19,
      "outputs": [
        {
          "output_type": "execute_result",
          "data": {
            "text/plain": [
              "{1: {('burgers',): 654,\n",
              "  ('eggs',): 1348,\n",
              "  ('turkey',): 469,\n",
              "  ('mineral water',): 1787,\n",
              "  ('milk',): 972,\n",
              "  ('whole wheat rice',): 439,\n",
              "  ('green tea',): 990,\n",
              "  ('low fat yogurt',): 573,\n",
              "  ('french fries',): 1282,\n",
              "  ('soup',): 379,\n",
              "  ('frozen vegetables',): 715,\n",
              "  ('spaghetti',): 1306,\n",
              "  ('cookies',): 603,\n",
              "  ('cooking oil',): 383,\n",
              "  ('shrimp',): 535,\n",
              "  ('chocolate',): 1229,\n",
              "  ('chicken',): 450,\n",
              "  ('tomatoes',): 513,\n",
              "  ('pancakes',): 713,\n",
              "  ('grated cheese',): 393,\n",
              "  ('ground beef',): 737,\n",
              "  ('frozen smoothie',): 474,\n",
              "  ('escalope',): 595,\n",
              "  ('cake',): 608,\n",
              "  ('olive oil',): 493},\n",
              " 2: {('chocolate', 'mineral water'): 395,\n",
              "  ('eggs', 'mineral water'): 382,\n",
              "  ('mineral water', 'spaghetti'): 448}}"
            ]
          },
          "metadata": {},
          "execution_count": 19
        }
      ]
    },
    {
      "cell_type": "code",
      "source": [
        "for item in sorted(rules, key=lambda item: (item.lift,item.conviction), reverse=True):\n",
        "    print(item)"
      ],
      "metadata": {
        "colab": {
          "base_uri": "https://localhost:8080/"
        },
        "id": "74By1htVQAFF",
        "outputId": "7eca7632-8f0d-4f24-f1f8-6172fcf87a8a"
      },
      "execution_count": 18,
      "outputs": [
        {
          "output_type": "stream",
          "name": "stdout",
          "text": [
            "{spaghetti} -> {mineral water} (conf: 0.343, supp: 0.060, lift: 1.440, conv: 1.159)\n",
            "{mineral water} -> {spaghetti} (conf: 0.251, supp: 0.060, lift: 1.440, conv: 1.102)\n",
            "{chocolate} -> {mineral water} (conf: 0.321, supp: 0.053, lift: 1.349, conv: 1.123)\n",
            "{mineral water} -> {chocolate} (conf: 0.221, supp: 0.053, lift: 1.349, conv: 1.073)\n",
            "{eggs} -> {mineral water} (conf: 0.283, supp: 0.051, lift: 1.189, conv: 1.063)\n",
            "{mineral water} -> {eggs} (conf: 0.214, supp: 0.051, lift: 1.189, conv: 1.043)\n"
          ]
        }
      ]
    },
    {
      "cell_type": "markdown",
      "source": [
        "##  Use minimum support as 60% and minimum confidence as 60 %"
      ],
      "metadata": {
        "id": "vxtJS_Y65K9D"
      }
    },
    {
      "cell_type": "code",
      "source": [
        "itemsets2, rules2 = apriori(clean_data, min_support=0.06, min_confidence=0.06, verbosity=1)"
      ],
      "metadata": {
        "colab": {
          "base_uri": "https://localhost:8080/"
        },
        "id": "iUdQP61HQ-g5",
        "outputId": "af294cea-24cb-4188-e525-467948bcc468"
      },
      "execution_count": 28,
      "outputs": [
        {
          "output_type": "stream",
          "name": "stdout",
          "text": [
            "Generating itemsets.\n",
            " Counting itemsets of length 1.\n",
            "  Found 120 candidate itemsets of length 1.\n",
            "  Found 21 large itemsets of length 1.\n",
            " Counting itemsets of length 2.\n",
            "  Found 210 candidate itemsets of length 2.\n",
            "Itemset generation terminated.\n",
            "\n",
            "Generating rules from itemsets.\n",
            "Rule generation terminated.\n",
            "\n"
          ]
        }
      ]
    },
    {
      "cell_type": "code",
      "source": [
        "itemsets2"
      ],
      "metadata": {
        "colab": {
          "base_uri": "https://localhost:8080/"
        },
        "id": "JAVfzHVj4qbv",
        "outputId": "a3dcae63-805a-44b5-8b5c-db9def79a6d8"
      },
      "execution_count": 29,
      "outputs": [
        {
          "output_type": "execute_result",
          "data": {
            "text/plain": [
              "{1: {('burgers',): 654,\n",
              "  ('eggs',): 1348,\n",
              "  ('turkey',): 469,\n",
              "  ('mineral water',): 1787,\n",
              "  ('milk',): 972,\n",
              "  ('green tea',): 990,\n",
              "  ('low fat yogurt',): 573,\n",
              "  ('french fries',): 1282,\n",
              "  ('frozen vegetables',): 715,\n",
              "  ('spaghetti',): 1306,\n",
              "  ('cookies',): 603,\n",
              "  ('shrimp',): 535,\n",
              "  ('chocolate',): 1229,\n",
              "  ('chicken',): 450,\n",
              "  ('tomatoes',): 513,\n",
              "  ('pancakes',): 713,\n",
              "  ('ground beef',): 737,\n",
              "  ('frozen smoothie',): 474,\n",
              "  ('escalope',): 595,\n",
              "  ('cake',): 608,\n",
              "  ('olive oil',): 493}}"
            ]
          },
          "metadata": {},
          "execution_count": 29
        }
      ]
    },
    {
      "cell_type": "code",
      "source": [
        "for item in sorted(rules2, key=lambda item: (item.lift,item.conviction), reverse=True):\n",
        "    print(item)"
      ],
      "metadata": {
        "id": "7y0dhpO04yN4"
      },
      "execution_count": 30,
      "outputs": []
    }
  ]
}