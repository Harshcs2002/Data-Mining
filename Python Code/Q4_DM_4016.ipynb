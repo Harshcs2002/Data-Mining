{
  "nbformat": 4,
  "nbformat_minor": 0,
  "metadata": {
    "colab": {
      "provenance": []
    },
    "kernelspec": {
      "name": "python3",
      "display_name": "Python 3"
    },
    "language_info": {
      "name": "python"
    }
  },
  "cells": [
    {
      "cell_type": "markdown",
      "source": [
        "# Q4. Run Apriori algorithm to find frequent itemsets and association rules\n",
        "- ## 1.1 Use minimum support as 50% and minimum confidence as 75%\n",
        "- ## 1.2 Use minimum support as 60% and minimum confidence as 60 %"
      ],
      "metadata": {
        "id": "U0xOIyykAPWy"
      }
    },
    {
      "cell_type": "code",
      "source": [
        "import pandas as pd\n",
        "import numpy as np\n",
        "\n",
        "market_basket = pd.read_csv('/content/Market_Basket_Optimisation.csv')\n",
        "print(market_basket)"
      ],
      "metadata": {
        "colab": {
          "base_uri": "https://localhost:8080/"
        },
        "id": "_SojggYhKYAQ",
        "outputId": "b35316ab-3383-46cb-bf81-6d69820ac870"
      },
      "execution_count": null,
      "outputs": [
        {
          "output_type": "stream",
          "name": "stdout",
          "text": [
            "              shrimp            almonds      avocado    vegetables mix  \\\n",
            "0            burgers          meatballs         eggs               NaN   \n",
            "1            chutney                NaN          NaN               NaN   \n",
            "2             turkey            avocado          NaN               NaN   \n",
            "3      mineral water               milk   energy bar  whole wheat rice   \n",
            "4     low fat yogurt                NaN          NaN               NaN   \n",
            "...              ...                ...          ...               ...   \n",
            "7495          butter         light mayo  fresh bread               NaN   \n",
            "7496         burgers  frozen vegetables         eggs      french fries   \n",
            "7497         chicken                NaN          NaN               NaN   \n",
            "7498        escalope          green tea          NaN               NaN   \n",
            "7499            eggs    frozen smoothie  yogurt cake    low fat yogurt   \n",
            "\n",
            "     green grapes whole weat flour yams cottage cheese energy drink  \\\n",
            "0             NaN              NaN  NaN            NaN          NaN   \n",
            "1             NaN              NaN  NaN            NaN          NaN   \n",
            "2             NaN              NaN  NaN            NaN          NaN   \n",
            "3       green tea              NaN  NaN            NaN          NaN   \n",
            "4             NaN              NaN  NaN            NaN          NaN   \n",
            "...           ...              ...  ...            ...          ...   \n",
            "7495          NaN              NaN  NaN            NaN          NaN   \n",
            "7496    magazines        green tea  NaN            NaN          NaN   \n",
            "7497          NaN              NaN  NaN            NaN          NaN   \n",
            "7498          NaN              NaN  NaN            NaN          NaN   \n",
            "7499          NaN              NaN  NaN            NaN          NaN   \n",
            "\n",
            "     tomato juice low fat yogurt green tea honey salad mineral water salmon  \\\n",
            "0             NaN            NaN       NaN   NaN   NaN           NaN    NaN   \n",
            "1             NaN            NaN       NaN   NaN   NaN           NaN    NaN   \n",
            "2             NaN            NaN       NaN   NaN   NaN           NaN    NaN   \n",
            "3             NaN            NaN       NaN   NaN   NaN           NaN    NaN   \n",
            "4             NaN            NaN       NaN   NaN   NaN           NaN    NaN   \n",
            "...           ...            ...       ...   ...   ...           ...    ...   \n",
            "7495          NaN            NaN       NaN   NaN   NaN           NaN    NaN   \n",
            "7496          NaN            NaN       NaN   NaN   NaN           NaN    NaN   \n",
            "7497          NaN            NaN       NaN   NaN   NaN           NaN    NaN   \n",
            "7498          NaN            NaN       NaN   NaN   NaN           NaN    NaN   \n",
            "7499          NaN            NaN       NaN   NaN   NaN           NaN    NaN   \n",
            "\n",
            "     antioxydant juice frozen smoothie spinach  olive oil  \n",
            "0                  NaN             NaN     NaN        NaN  \n",
            "1                  NaN             NaN     NaN        NaN  \n",
            "2                  NaN             NaN     NaN        NaN  \n",
            "3                  NaN             NaN     NaN        NaN  \n",
            "4                  NaN             NaN     NaN        NaN  \n",
            "...                ...             ...     ...        ...  \n",
            "7495               NaN             NaN     NaN        NaN  \n",
            "7496               NaN             NaN     NaN        NaN  \n",
            "7497               NaN             NaN     NaN        NaN  \n",
            "7498               NaN             NaN     NaN        NaN  \n",
            "7499               NaN             NaN     NaN        NaN  \n",
            "\n",
            "[7500 rows x 20 columns]\n"
          ]
        }
      ]
    },
    {
      "cell_type": "code",
      "source": [
        "clean_data =[]\n",
        "\n",
        "for i in range(len(market_basket)):\n",
        "    clean_data.append([x for x in list(map(str,market_basket.iloc[i].tolist())) if x != 'nan'])\n",
        "length = len(clean_data)\n",
        "print(length)    "
      ],
      "metadata": {
        "colab": {
          "base_uri": "https://localhost:8080/"
        },
        "id": "JDPAKpEKLCL8",
        "outputId": "a2669fc5-6268-4d85-dad3-ca1ce1d002a1"
      },
      "execution_count": null,
      "outputs": [
        {
          "output_type": "stream",
          "name": "stdout",
          "text": [
            "7500\n"
          ]
        }
      ]
    },
    {
      "cell_type": "code",
      "source": [
        "from apyori import apriori"
      ],
      "metadata": {
        "id": "vUP7-tjuLueF"
      },
      "execution_count": null,
      "outputs": []
    },
    {
      "cell_type": "code",
      "source": [
        "def inspect(results):\n",
        "    lhs = [tuple(result[2][0][0])[0] for result in results]\n",
        "    rhs = [tuple(result[2][0][1])[0] for result in results]\n",
        "    supports = [result[1] for result in results]\n",
        "    confidences = [result[2][0][2] for result in results]\n",
        "    lifts = [result[2][0][3] for result in results]\n",
        "    return list(zip(lhs, rhs, supports, confidences, lifts))\n"
      ],
      "metadata": {
        "id": "DlUDXZ6HdL6b"
      },
      "execution_count": null,
      "outputs": []
    },
    {
      "cell_type": "code",
      "source": [
        "results = list(apriori(clean_data, min_support=0.005, min_confidence=0.0075, min_lift=3, min_length=2))\n",
        "output_dataFrame = pd.DataFrame(inspect(results), columns = ['Left_Hand_Side', 'Right_Hand_Side', 'Support', 'Confidence', 'Lift'])\n",
        "print(output_dataFrame)"
      ],
      "metadata": {
        "colab": {
          "base_uri": "https://localhost:8080/"
        },
        "id": "7Ldz8Lt2dRh4",
        "outputId": "cfb76bee-e80f-4a14-bf39-ffbffba7be52"
      },
      "execution_count": null,
      "outputs": [
        {
          "output_type": "stream",
          "name": "stdout",
          "text": [
            "       Left_Hand_Side       Right_Hand_Side   Support  Confidence      Lift\n",
            "0            escalope  mushroom cream sauce  0.005733    0.072269  3.790327\n",
            "1            escalope                 pasta  0.005867    0.073950  4.700185\n",
            "2         ground beef         herb & pepper  0.016000    0.162822  3.291555\n",
            "3         ground beef          tomato sauce  0.005333    0.054274  3.840147\n",
            "4           olive oil     whole wheat pasta  0.008000    0.121704  4.130221\n",
            "5               pasta                shrimp  0.005067    0.322034  4.514494\n",
            "6   frozen vegetables                shrimp  0.005333    0.055944  3.108003\n",
            "7         ground beef     frozen vegetables  0.008667    0.088195  3.164906\n",
            "8   frozen vegetables                shrimp  0.007200    0.075524  3.218373\n",
            "9           olive oil     frozen vegetables  0.005733    0.087221  3.129944\n",
            "10             shrimp     frozen vegetables  0.006000    0.084112  3.018379\n",
            "11  frozen vegetables              tomatoes  0.006667    0.069930  3.340608\n",
            "12        ground beef         grated cheese  0.005333    0.054274  3.282707\n",
            "13        ground beef         herb & pepper  0.006667    0.067843  3.975153\n",
            "14        ground beef         herb & pepper  0.006400    0.065129  4.003826\n",
            "15          spaghetti           ground beef  0.006000    0.034456  3.004915\n",
            "16               soup                  milk  0.008533    0.168865  3.518030\n",
            "17          olive oil                  milk  0.007200    0.109533  3.088350\n",
            "18          olive oil                  soup  0.005200    0.079108  3.429516\n",
            "19          olive oil              pancakes  0.005067    0.077079  3.058695\n"
          ]
        }
      ]
    },
    {
      "cell_type": "code",
      "source": [
        "results = list(apriori(clean_data, min_support=0.006, min_confidence=0.006, min_lift=3, min_length=2))\n",
        "output_dataFrame = pd.DataFrame(inspect(results), columns = ['Left_Hand_Side', 'Right_Hand_Side', 'Support', 'Confidence', 'Lift'])\n",
        "print(output_dataFrame)"
      ],
      "metadata": {
        "colab": {
          "base_uri": "https://localhost:8080/"
        },
        "id": "74By1htVQAFF",
        "outputId": "7b52d65d-ade3-4027-f4a6-946effd25a1e"
      },
      "execution_count": null,
      "outputs": [
        {
          "output_type": "stream",
          "name": "stdout",
          "text": [
            "       Left_Hand_Side    Right_Hand_Side   Support  Confidence      Lift\n",
            "0         ground beef      herb & pepper  0.016000    0.162822  3.291555\n",
            "1           olive oil  whole wheat pasta  0.008000    0.121704  4.130221\n",
            "2         ground beef  frozen vegetables  0.008667    0.088195  3.164906\n",
            "3   frozen vegetables             shrimp  0.007200    0.075524  3.218373\n",
            "4              shrimp  frozen vegetables  0.006000    0.084112  3.018379\n",
            "5   frozen vegetables           tomatoes  0.006667    0.069930  3.340608\n",
            "6         ground beef      herb & pepper  0.006667    0.067843  3.975153\n",
            "7         ground beef      herb & pepper  0.006400    0.065129  4.003826\n",
            "8           spaghetti        ground beef  0.006000    0.034456  3.004915\n",
            "9                soup               milk  0.008533    0.168865  3.518030\n",
            "10          olive oil               milk  0.007200    0.109533  3.088350\n"
          ]
        }
      ]
    },
    {
      "cell_type": "code",
      "source": [
        "!pip install apyori"
      ],
      "metadata": {
        "colab": {
          "base_uri": "https://localhost:8080/"
        },
        "id": "XDH5e9fuPoJQ",
        "outputId": "6811c8ab-6499-47f9-f64d-9c7df4d809a2"
      },
      "execution_count": null,
      "outputs": [
        {
          "output_type": "stream",
          "name": "stdout",
          "text": [
            "Looking in indexes: https://pypi.org/simple, https://us-python.pkg.dev/colab-wheels/public/simple/\n",
            "Collecting apyori\n",
            "  Downloading apyori-1.1.2.tar.gz (8.6 kB)\n",
            "  Preparing metadata (setup.py) ... \u001b[?25l\u001b[?25hdone\n",
            "Building wheels for collected packages: apyori\n",
            "  Building wheel for apyori (setup.py) ... \u001b[?25l\u001b[?25hdone\n",
            "  Created wheel for apyori: filename=apyori-1.1.2-py3-none-any.whl size=5976 sha256=b5263cb6aec706452ff903c60e5663a92c32ecb3584d0934861fd85411d88f68\n",
            "  Stored in directory: /root/.cache/pip/wheels/32/2a/54/10c595515f385f3726642b10c60bf788029e8f3a1323e3913a\n",
            "Successfully built apyori\n",
            "Installing collected packages: apyori\n",
            "Successfully installed apyori-1.1.2\n"
          ]
        }
      ]
    }
  ]
}